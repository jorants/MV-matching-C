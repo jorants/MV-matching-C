{
 "metadata": {
  "name": ""
 },
 "nbformat": 3,
 "nbformat_minor": 0,
 "worksheets": [
  {
   "cells": [
    {
     "cell_type": "code",
     "collapsed": false,
     "input": [
      "file = open(\"/home/leen/MATCHING/MV-matching-C/testsuit/ab.out\", \"r\")"
     ],
     "language": "python",
     "metadata": {},
     "outputs": [],
     "prompt_number": 124
    },
    {
     "cell_type": "code",
     "collapsed": false,
     "input": [
      "lines = file.readlines()"
     ],
     "language": "python",
     "metadata": {},
     "outputs": [],
     "prompt_number": 125
    },
    {
     "cell_type": "code",
     "collapsed": false,
     "input": [
      "slines = [line.split(\" \") for line in lines]"
     ],
     "language": "python",
     "metadata": {},
     "outputs": [],
     "prompt_number": 126
    },
    {
     "cell_type": "code",
     "collapsed": false,
     "input": [
      "olines = [[l[0], l[4], l[5], l[9]] for l in slines]"
     ],
     "language": "python",
     "metadata": {},
     "outputs": [],
     "prompt_number": 127
    },
    {
     "cell_type": "code",
     "collapsed": false,
     "input": [
      "onlines = [[int(ll) for ll in l] for l in olines]"
     ],
     "language": "python",
     "metadata": {},
     "outputs": [],
     "prompt_number": 128
    },
    {
     "cell_type": "code",
     "collapsed": false,
     "input": [
      "srt = sorted(onlines)"
     ],
     "language": "python",
     "metadata": {},
     "outputs": [],
     "prompt_number": 129
    },
    {
     "cell_type": "code",
     "collapsed": false,
     "input": [
      "grp = []\n",
      "current = None\n",
      "count = 0\n",
      "for line in srt:\n",
      "    if current is not None:\n",
      "        if current[0] == line[0]:\n",
      "            for i in range(3):\n",
      "                current[i+1] += line[i+1]\n",
      "            count += 1\n",
      "        else:\n",
      "            for i in range(3):\n",
      "                current[i+1] /= count\n",
      "            grp.append(current)\n",
      "            current = [itm for itm in line]\n",
      "            count = 1\n",
      "    else:\n",
      "        current = [itm for itm in line]\n",
      "        count = 1\n",
      "for i in range(3):\n",
      "    current[i+1] /= count\n",
      "grp.append(current)\n",
      "            "
     ],
     "language": "python",
     "metadata": {},
     "outputs": [],
     "prompt_number": 130
    },
    {
     "cell_type": "code",
     "collapsed": false,
     "input": [
      "grp2 = []\n",
      "current = None\n",
      "count = 0\n",
      "for line in srt:\n",
      "    if current is not None:\n",
      "        if current[0] == line[0]:\n",
      "            for i in range(3):\n",
      "                current[i+1] += (line[i+1])**2\n",
      "            count += 1\n",
      "        else:\n",
      "            for i in range(3):\n",
      "                current[i+1] /= count\n",
      "            grp2.append(current)\n",
      "            current = [line[0]] + [itm**2 for itm in line[1:]]\n",
      "            count = 1\n",
      "    else:\n",
      "        current = [line[0]] + [itm**2 for itm in line[1:]]\n",
      "        count = 1\n",
      "for i in range(3):\n",
      "    current[i+1] /= count\n",
      "grp2.append(current)"
     ],
     "language": "python",
     "metadata": {},
     "outputs": [],
     "prompt_number": 131
    },
    {
     "cell_type": "code",
     "collapsed": false,
     "input": [
      "grpstdev = [[grp[i][0]] + [sqrt(grp2[i][j] - grp[i][j]**2) for j in range(1,4)] for i in range(len(grp))]"
     ],
     "language": "python",
     "metadata": {},
     "outputs": [],
     "prompt_number": 148
    },
    {
     "cell_type": "code",
     "collapsed": false,
     "input": [
      "len(grp)"
     ],
     "language": "python",
     "metadata": {},
     "outputs": [
      {
       "metadata": {},
       "output_type": "pyout",
       "prompt_number": 133,
       "text": [
        "50"
       ]
      }
     ],
     "prompt_number": 133
    },
    {
     "cell_type": "code",
     "collapsed": false,
     "input": [
      "from pylab import *"
     ],
     "language": "python",
     "metadata": {},
     "outputs": [],
     "prompt_number": 136
    },
    {
     "cell_type": "code",
     "collapsed": false,
     "input": [
      "x = [l[0] for l in grp]"
     ],
     "language": "python",
     "metadata": {},
     "outputs": [],
     "prompt_number": 137
    },
    {
     "cell_type": "code",
     "collapsed": false,
     "input": [
      "y = [l[1] for l in grp]\n",
      "z = [l[1] for l in grpstdev]"
     ],
     "language": "python",
     "metadata": {},
     "outputs": [],
     "prompt_number": 149
    },
    {
     "cell_type": "code",
     "collapsed": false,
     "input": [
      "figure()\n",
      "plot(x,y,\"r\")\n",
      "# plot(x,z,\"r--\")\n",
      "\n",
      "show()"
     ],
     "language": "python",
     "metadata": {},
     "outputs": [
      {
       "metadata": {},
       "output_type": "display_data",
       "png": "[encoded data removed]",
       "text": [
        "<matplotlib.figure.Figure at 0xaf10f76c>"
       ]
      }
     ],
     "prompt_number": 150
    },
    {
     "cell_type": "code",
     "collapsed": false,
     "input": [],
     "language": "python",
     "metadata": {},
     "outputs": []
    }
   ],
   "metadata": {}
  }
 ]
}